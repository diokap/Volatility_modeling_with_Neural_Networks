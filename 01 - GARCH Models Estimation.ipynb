{
 "cells": [
  {
   "cell_type": "code",
   "execution_count": 1,
   "metadata": {},
   "outputs": [],
   "source": [
    "# Here I define the stock I want to work on.\n",
    "# If you simply change the name and re-run the whole notebook the whole process will be done automatically.\n",
    "# For example if I want to load Google.csv I type in 'Google'.\n",
    "# This is NOT case sensitive. \n",
    "stock = 'Google'"
   ]
  },
  {
   "cell_type": "markdown",
   "metadata": {},
   "source": [
    "## Loading Data"
   ]
  },
  {
   "cell_type": "code",
   "execution_count": 2,
   "metadata": {},
   "outputs": [
    {
     "data": {
      "text/html": [
       "<div>\n",
       "<style scoped>\n",
       "    .dataframe tbody tr th:only-of-type {\n",
       "        vertical-align: middle;\n",
       "    }\n",
       "\n",
       "    .dataframe tbody tr th {\n",
       "        vertical-align: top;\n",
       "    }\n",
       "\n",
       "    .dataframe thead th {\n",
       "        text-align: right;\n",
       "    }\n",
       "</style>\n",
       "<table border=\"1\" class=\"dataframe\">\n",
       "  <thead>\n",
       "    <tr style=\"text-align: right;\">\n",
       "      <th></th>\n",
       "      <th>Date</th>\n",
       "      <th>Open</th>\n",
       "      <th>High</th>\n",
       "      <th>Low</th>\n",
       "      <th>Close</th>\n",
       "      <th>Adj Close</th>\n",
       "      <th>Volume</th>\n",
       "    </tr>\n",
       "  </thead>\n",
       "  <tbody>\n",
       "    <tr>\n",
       "      <th>0</th>\n",
       "      <td>2004-08-19</td>\n",
       "      <td>49.813286</td>\n",
       "      <td>51.835709</td>\n",
       "      <td>47.800831</td>\n",
       "      <td>49.982655</td>\n",
       "      <td>49.982655</td>\n",
       "      <td>44871300</td>\n",
       "    </tr>\n",
       "    <tr>\n",
       "      <th>1</th>\n",
       "      <td>2004-08-20</td>\n",
       "      <td>50.316402</td>\n",
       "      <td>54.336334</td>\n",
       "      <td>50.062355</td>\n",
       "      <td>53.952770</td>\n",
       "      <td>53.952770</td>\n",
       "      <td>22942800</td>\n",
       "    </tr>\n",
       "    <tr>\n",
       "      <th>2</th>\n",
       "      <td>2004-08-23</td>\n",
       "      <td>55.168217</td>\n",
       "      <td>56.528118</td>\n",
       "      <td>54.321388</td>\n",
       "      <td>54.495735</td>\n",
       "      <td>54.495735</td>\n",
       "      <td>18342800</td>\n",
       "    </tr>\n",
       "    <tr>\n",
       "      <th>3</th>\n",
       "      <td>2004-08-24</td>\n",
       "      <td>55.412300</td>\n",
       "      <td>55.591629</td>\n",
       "      <td>51.591621</td>\n",
       "      <td>52.239193</td>\n",
       "      <td>52.239193</td>\n",
       "      <td>15319700</td>\n",
       "    </tr>\n",
       "    <tr>\n",
       "      <th>4</th>\n",
       "      <td>2004-08-25</td>\n",
       "      <td>52.284027</td>\n",
       "      <td>53.798351</td>\n",
       "      <td>51.746044</td>\n",
       "      <td>52.802086</td>\n",
       "      <td>52.802086</td>\n",
       "      <td>9232100</td>\n",
       "    </tr>\n",
       "  </tbody>\n",
       "</table>\n",
       "</div>"
      ],
      "text/plain": [
       "         Date       Open       High        Low      Close  Adj Close    Volume\n",
       "0  2004-08-19  49.813286  51.835709  47.800831  49.982655  49.982655  44871300\n",
       "1  2004-08-20  50.316402  54.336334  50.062355  53.952770  53.952770  22942800\n",
       "2  2004-08-23  55.168217  56.528118  54.321388  54.495735  54.495735  18342800\n",
       "3  2004-08-24  55.412300  55.591629  51.591621  52.239193  52.239193  15319700\n",
       "4  2004-08-25  52.284027  53.798351  51.746044  52.802086  52.802086   9232100"
      ]
     },
     "execution_count": 2,
     "metadata": {},
     "output_type": "execute_result"
    }
   ],
   "source": [
    "import numpy as np\n",
    "import pandas as pd\n",
    "df1 = pd.read_csv(f'{stock}.csv')\n",
    "df1.head()"
   ]
  },
  {
   "cell_type": "code",
   "execution_count": 3,
   "metadata": {},
   "outputs": [
    {
     "data": {
      "text/html": [
       "<div>\n",
       "<style scoped>\n",
       "    .dataframe tbody tr th:only-of-type {\n",
       "        vertical-align: middle;\n",
       "    }\n",
       "\n",
       "    .dataframe tbody tr th {\n",
       "        vertical-align: top;\n",
       "    }\n",
       "\n",
       "    .dataframe thead th {\n",
       "        text-align: right;\n",
       "    }\n",
       "</style>\n",
       "<table border=\"1\" class=\"dataframe\">\n",
       "  <thead>\n",
       "    <tr style=\"text-align: right;\">\n",
       "      <th></th>\n",
       "      <th>Date</th>\n",
       "      <th>Google</th>\n",
       "    </tr>\n",
       "  </thead>\n",
       "  <tbody>\n",
       "    <tr>\n",
       "      <th>0</th>\n",
       "      <td>2004-08-19</td>\n",
       "      <td>49.982655</td>\n",
       "    </tr>\n",
       "    <tr>\n",
       "      <th>1</th>\n",
       "      <td>2004-08-20</td>\n",
       "      <td>53.952770</td>\n",
       "    </tr>\n",
       "    <tr>\n",
       "      <th>2</th>\n",
       "      <td>2004-08-23</td>\n",
       "      <td>54.495735</td>\n",
       "    </tr>\n",
       "    <tr>\n",
       "      <th>3</th>\n",
       "      <td>2004-08-24</td>\n",
       "      <td>52.239193</td>\n",
       "    </tr>\n",
       "    <tr>\n",
       "      <th>4</th>\n",
       "      <td>2004-08-25</td>\n",
       "      <td>52.802086</td>\n",
       "    </tr>\n",
       "  </tbody>\n",
       "</table>\n",
       "</div>"
      ],
      "text/plain": [
       "         Date     Google\n",
       "0  2004-08-19  49.982655\n",
       "1  2004-08-20  53.952770\n",
       "2  2004-08-23  54.495735\n",
       "3  2004-08-24  52.239193\n",
       "4  2004-08-25  52.802086"
      ]
     },
     "execution_count": 3,
     "metadata": {},
     "output_type": "execute_result"
    }
   ],
   "source": [
    "# I use the daily adjusted close prices. These prices are adjusted for possible dividends and/or splits.\n",
    "df = pd.DataFrame()\n",
    "df[['Date', f'{stock}']] = df1[['Date', 'Adj Close']]\n",
    "df.head()"
   ]
  },
  {
   "cell_type": "code",
   "execution_count": 4,
   "metadata": {},
   "outputs": [
    {
     "name": "stdout",
     "output_type": "stream",
     "text": [
      "<class 'pandas.core.frame.DataFrame'>\n",
      "Int64Index: 3876 entries, 0 to 3875\n",
      "Data columns (total 2 columns):\n",
      "Date      3876 non-null object\n",
      "Google    3876 non-null float64\n",
      "dtypes: float64(1), object(1)\n",
      "memory usage: 90.8+ KB\n"
     ]
    }
   ],
   "source": [
    "df.dropna(inplace=True)\n",
    "df.info()"
   ]
  },
  {
   "cell_type": "code",
   "execution_count": 5,
   "metadata": {},
   "outputs": [
    {
     "data": {
      "text/plain": [
       "<matplotlib.axes._subplots.AxesSubplot at 0x2360c2cca88>"
      ]
     },
     "execution_count": 5,
     "metadata": {},
     "output_type": "execute_result"
    },
    {
     "data": {
      "image/png": "[encoded data removed]",
      "text/plain": [
       "<Figure size 432x288 with 1 Axes>"
      ]
     },
     "metadata": {},
     "output_type": "display_data"
    }
   ],
   "source": [
    "import matplotlib as plt\n",
    "import seaborn as sns\n",
    "sns.set()\n",
    "df[f'{stock}'].plot()"
   ]
  },
  {
   "cell_type": "markdown",
   "metadata": {},
   "source": [
    "## Checking for unit root\n",
    "Before estimating any model, we have to check if the time series is stationary over time. If not then we take the first differences and check again. If not the second differences and so on. If the p-value of the test is lower than 0.05, then we reject the null hypothesis of non-stationarity."
   ]
  },
  {
   "cell_type": "code",
   "execution_count": 6,
   "metadata": {},
   "outputs": [
    {
     "name": "stdout",
     "output_type": "stream",
     "text": [
      "The p-value of the Augmented Dickey-Fuller test is 0.997\n"
     ]
    }
   ],
   "source": [
    "from statsmodels.tsa.stattools import adfuller\n",
    "adf = adfuller(df[f'{stock}'])\n",
    "print(\"The p-value of the Augmented Dickey-Fuller test is \" + str(round(adf[1], 3)))"
   ]
  },
  {
   "cell_type": "code",
   "execution_count": 7,
   "metadata": {},
   "outputs": [
    {
     "data": {
      "text/html": [
       "<div>\n",
       "<style scoped>\n",
       "    .dataframe tbody tr th:only-of-type {\n",
       "        vertical-align: middle;\n",
       "    }\n",
       "\n",
       "    .dataframe tbody tr th {\n",
       "        vertical-align: top;\n",
       "    }\n",
       "\n",
       "    .dataframe thead th {\n",
       "        text-align: right;\n",
       "    }\n",
       "</style>\n",
       "<table border=\"1\" class=\"dataframe\">\n",
       "  <thead>\n",
       "    <tr style=\"text-align: right;\">\n",
       "      <th></th>\n",
       "      <th>Date</th>\n",
       "      <th>Google</th>\n",
       "      <th>DGoogle</th>\n",
       "    </tr>\n",
       "  </thead>\n",
       "  <tbody>\n",
       "    <tr>\n",
       "      <th>0</th>\n",
       "      <td>2004-08-19</td>\n",
       "      <td>49.982655</td>\n",
       "      <td>NaN</td>\n",
       "    </tr>\n",
       "    <tr>\n",
       "      <th>1</th>\n",
       "      <td>2004-08-20</td>\n",
       "      <td>53.952770</td>\n",
       "      <td>3.970115</td>\n",
       "    </tr>\n",
       "    <tr>\n",
       "      <th>2</th>\n",
       "      <td>2004-08-23</td>\n",
       "      <td>54.495735</td>\n",
       "      <td>0.542965</td>\n",
       "    </tr>\n",
       "    <tr>\n",
       "      <th>3</th>\n",
       "      <td>2004-08-24</td>\n",
       "      <td>52.239193</td>\n",
       "      <td>-2.256542</td>\n",
       "    </tr>\n",
       "    <tr>\n",
       "      <th>4</th>\n",
       "      <td>2004-08-25</td>\n",
       "      <td>52.802086</td>\n",
       "      <td>0.562893</td>\n",
       "    </tr>\n",
       "  </tbody>\n",
       "</table>\n",
       "</div>"
      ],
      "text/plain": [
       "         Date     Google   DGoogle\n",
       "0  2004-08-19  49.982655       NaN\n",
       "1  2004-08-20  53.952770  3.970115\n",
       "2  2004-08-23  54.495735  0.542965\n",
       "3  2004-08-24  52.239193 -2.256542\n",
       "4  2004-08-25  52.802086  0.562893"
      ]
     },
     "execution_count": 7,
     "metadata": {},
     "output_type": "execute_result"
    }
   ],
   "source": [
    "df[f'D{stock}'] = df[f'{stock}'].diff()\n",
    "df.head()"
   ]
  },
  {
   "cell_type": "code",
   "execution_count": 8,
   "metadata": {},
   "outputs": [
    {
     "data": {
      "text/plain": [
       "<matplotlib.axes._subplots.AxesSubplot at 0x2360f3aa588>"
      ]
     },
     "execution_count": 8,
     "metadata": {},
     "output_type": "execute_result"
    },
    {
     "data": {
      "image/png": "[encoded data removed]",
      "text/plain": [
       "<Figure size 432x288 with 1 Axes>"
      ]
     },
     "metadata": {},
     "output_type": "display_data"
    }
   ],
   "source": [
    "df[f'D{stock}'].plot()"
   ]
  },
  {
   "cell_type": "code",
   "execution_count": 9,
   "metadata": {},
   "outputs": [
    {
     "name": "stdout",
     "output_type": "stream",
     "text": [
      "The p-value of the Augmented Dickey-Fuller test is 0.0\n"
     ]
    }
   ],
   "source": [
    "df.dropna(inplace=True)\n",
    "df.reset_index(inplace=True, drop=True)\n",
    "adf = adfuller(df[f'D{stock}'])\n",
    "print(\"The p-value of the Augmented Dickey-Fuller test is \" + str(round(adf[1], 3)))"
   ]
  },
  {
   "cell_type": "markdown",
   "metadata": {},
   "source": [
    "## Estimating the best ARIMA model for the mean\n",
    "The first step before estimating the GARCH models is to estimate an ARIMA model for the mean. I estimate all models for orders p and q from 0 to 10 and take the model with the smallest AIC. All of the estimated coefficients should also be statistically significant."
   ]
  },
  {
   "cell_type": "code",
   "execution_count": 11,
   "metadata": {},
   "outputs": [],
   "source": [
    "# I am making use of the multiprocessing tool for faster estimation of the models.\n",
    "# The map function takes 2 arguments. The first is the function I want to pool.\n",
    "# The second is a list of the arguments for each process. Here I am creating that list.\n",
    "# Each item of the list contains a list with 2 items.\n",
    "# The first is the series I want to estimate the ARIMA model on.\n",
    "# The second is the order q of the ARIMA model the process is going to estimate.\n",
    "# So, the first process will estimate all ARIMA models for order p from 0 to 10 and q = 0 and return the best of them.\n",
    "# The second process for p from 0 to 10 and q = 1 etc.\n",
    "f = []\n",
    "for i in range(11):\n",
    "    f.append((df[f'{stock}'][:-3], i))"
   ]
  },
  {
   "cell_type": "code",
   "execution_count": 12,
   "metadata": {},
   "outputs": [],
   "source": [
    "# For some reason the multiprocessing doesn't work if I define the function inside the Jupyter Notebook.\n",
    "# So, I am calling the function from a separate file.\n",
    "# Check gbam.py\n",
    "# WARNING!!! This uses a lot of the CPU.\n",
    "from gbam import gbam\n",
    "import multiprocessing\n",
    "if __name__ == '__main__':\n",
    "    p = multiprocessing.Pool()\n",
    "    results = p.map(gbam, f)\n",
    "    p.close()"
   ]
  },
  {
   "cell_type": "code",
   "execution_count": 13,
   "metadata": {},
   "outputs": [
    {
     "data": {
      "text/html": [
       "<div>\n",
       "<style scoped>\n",
       "    .dataframe tbody tr th:only-of-type {\n",
       "        vertical-align: middle;\n",
       "    }\n",
       "\n",
       "    .dataframe tbody tr th {\n",
       "        vertical-align: top;\n",
       "    }\n",
       "\n",
       "    .dataframe thead th {\n",
       "        text-align: right;\n",
       "    }\n",
       "</style>\n",
       "<table border=\"1\" class=\"dataframe\">\n",
       "  <thead>\n",
       "    <tr style=\"text-align: right;\">\n",
       "      <th></th>\n",
       "      <th>AIC</th>\n",
       "      <th>Order</th>\n",
       "    </tr>\n",
       "  </thead>\n",
       "  <tbody>\n",
       "    <tr>\n",
       "      <th>0</th>\n",
       "      <td>27981.1457</td>\n",
       "      <td>(10, 8)</td>\n",
       "    </tr>\n",
       "    <tr>\n",
       "      <th>1</th>\n",
       "      <td>28004.6839</td>\n",
       "      <td>(6, 2)</td>\n",
       "    </tr>\n",
       "    <tr>\n",
       "      <th>2</th>\n",
       "      <td>28029.6657</td>\n",
       "      <td>(4, 1)</td>\n",
       "    </tr>\n",
       "    <tr>\n",
       "      <th>3</th>\n",
       "      <td>28047.0913</td>\n",
       "      <td>(0, 0)</td>\n",
       "    </tr>\n",
       "  </tbody>\n",
       "</table>\n",
       "</div>"
      ],
      "text/plain": [
       "          AIC    Order\n",
       "0  27981.1457  (10, 8)\n",
       "1  28004.6839   (6, 2)\n",
       "2  28029.6657   (4, 1)\n",
       "3  28047.0913   (0, 0)"
      ]
     },
     "execution_count": 13,
     "metadata": {},
     "output_type": "execute_result"
    }
   ],
   "source": [
    "# Here I make a dataframe with the results from the pool.\n",
    "# They are sorted by AIC.\n",
    "aic1 = pd.DataFrame(results, columns=['AIC', 'Order'])\n",
    "aic1.sort_values('AIC', inplace=True)\n",
    "aic1.reset_index(inplace=True, drop=True)\n",
    "#It is possible that some processes didn't find any models with the desired results so I delete them.\n",
    "aic1.replace([np.inf, -np.inf], np.nan, inplace=True) \n",
    "aic1.dropna(inplace=True)\n",
    "aic1"
   ]
  },
  {
   "cell_type": "code",
   "execution_count": 14,
   "metadata": {},
   "outputs": [],
   "source": [
    "# The first row gives me the order of p and q with the lowest AIC.\n",
    "p1 = aic1.iloc[0][1][0]\n",
    "q1 = aic1.iloc[0][1][1]"
   ]
  },
  {
   "cell_type": "code",
   "execution_count": 15,
   "metadata": {},
   "outputs": [],
   "source": [
    "# Saving the best order in a dictionary for later use.\n",
    "pq = {}\n",
    "pq.update({'ARIMA' : (p1 , q1)})"
   ]
  },
  {
   "cell_type": "code",
   "execution_count": 16,
   "metadata": {},
   "outputs": [
    {
     "name": "stdout",
     "output_type": "stream",
     "text": [
      "                             ARIMA Model Results                              \n",
      "==============================================================================\n",
      "Dep. Variable:               D.Google   No. Observations:                 3871\n",
      "Model:                ARIMA(10, 1, 8)   Log Likelihood              -13970.573\n",
      "Method:                       css-mle   S.D. of innovations              8.934\n",
      "Date:                Mon, 27 Jan 2020   AIC                          27981.146\n",
      "Time:                        20:16:34   BIC                          28106.371\n",
      "Sample:                             1   HQIC                         28025.609\n",
      "                                                                              \n",
      "===================================================================================\n",
      "                      coef    std err          z      P>|z|      [0.025      0.975]\n",
      "-----------------------------------------------------------------------------------\n",
      "const               0.3441      0.131      2.619      0.009       0.087       0.602\n",
      "ar.L1.D.Google     -0.4194      0.034    -12.448      0.000      -0.485      -0.353\n",
      "ar.L2.D.Google      0.1082      0.044      2.452      0.014       0.022       0.195\n",
      "ar.L3.D.Google      0.3096      0.039      7.851      0.000       0.232       0.387\n",
      "ar.L4.D.Google      0.1084      0.031      3.466      0.001       0.047       0.170\n",
      "ar.L5.D.Google      0.3724      0.034     11.019      0.000       0.306       0.439\n",
      "ar.L6.D.Google      0.0664      0.033      2.014      0.044       0.002       0.131\n",
      "ar.L7.D.Google     -0.3402      0.029    -11.763      0.000      -0.397      -0.283\n",
      "ar.L8.D.Google     -0.8705      0.035    -25.228      0.000      -0.938      -0.803\n",
      "ar.L9.D.Google     -0.0366      0.021     -1.760      0.078      -0.077       0.004\n",
      "ar.L10.D.Google    -0.0373      0.020     -1.880      0.060      -0.076       0.002\n",
      "ma.L1.D.Google      0.4305      0.030     14.519      0.000       0.372       0.489\n",
      "ma.L2.D.Google     -0.1621      0.041     -3.974      0.000      -0.242      -0.082\n",
      "ma.L3.D.Google     -0.3289      0.040     -8.252      0.000      -0.407      -0.251\n",
      "ma.L4.D.Google     -0.0915      0.032     -2.847      0.004      -0.154      -0.028\n",
      "ma.L5.D.Google     -0.4030      0.034    -11.928      0.000      -0.469      -0.337\n",
      "ma.L6.D.Google     -0.1189      0.030     -3.902      0.000      -0.179      -0.059\n",
      "ma.L7.D.Google      0.3823      0.028     13.557      0.000       0.327       0.438\n",
      "ma.L8.D.Google      0.8822      0.035     25.035      0.000       0.813       0.951\n",
      "                                    Roots                                     \n",
      "==============================================================================\n",
      "                   Real          Imaginary           Modulus         Frequency\n",
      "------------------------------------------------------------------------------\n",
      "AR.1             0.9592           -0.3248j            1.0127           -0.0520\n",
      "AR.2             0.9592           +0.3248j            1.0127            0.0520\n",
      "AR.3             0.2976           -0.9751j            1.0195           -0.2029\n",
      "AR.4             0.2976           +0.9751j            1.0195            0.2029\n",
      "AR.5            -0.9183           -0.3997j            1.0015           -0.4347\n",
      "AR.6            -0.9183           +0.3997j            1.0015            0.4347\n",
      "AR.7            -0.5450           -0.8863j            1.0404           -0.3378\n",
      "AR.8            -0.5450           +0.8863j            1.0404            0.3378\n",
      "AR.9            -0.2845           -4.8048j            4.8132           -0.2594\n",
      "AR.10           -0.2845           +4.8048j            4.8132            0.2594\n",
      "MA.1             0.9661           -0.3192j            1.0175           -0.0508\n",
      "MA.2             0.9661           +0.3192j            1.0175            0.0508\n",
      "MA.3             0.2952           -0.9657j            1.0098           -0.2028\n",
      "MA.4             0.2952           +0.9657j            1.0098            0.2028\n",
      "MA.5            -0.5578           -0.8705j            1.0339           -0.3407\n",
      "MA.6            -0.5578           +0.8705j            1.0339            0.3407\n",
      "MA.7            -0.9202           -0.3971j            1.0023           -0.4352\n",
      "MA.8            -0.9202           +0.3971j            1.0023            0.4352\n",
      "------------------------------------------------------------------------------\n"
     ]
    }
   ],
   "source": [
    "arima = ARIMA(df[f'{stock}'][:-3], order=(p1,1,q1)).fit()\n",
    "print(arima.summary())"
   ]
  },
  {
   "cell_type": "markdown",
   "metadata": {},
   "source": [
    "## Estimating best GARCH model"
   ]
  },
  {
   "cell_type": "code",
   "execution_count": 17,
   "metadata": {},
   "outputs": [],
   "source": [
    "# The same logic as the ARIMA model.\n",
    "# This time the first item of each list is the residuals from the best ARIMA model.\n",
    "# I also added a third item which is the method for estimating volatility.\n",
    "# Check gbgm.py\n",
    "f = []\n",
    "for i in range(11):\n",
    "    f.append((arima.resid, i, 'GARCH'))"
   ]
  },
  {
   "cell_type": "code",
   "execution_count": 18,
   "metadata": {},
   "outputs": [],
   "source": [
    "# WARNING!!! This uses a lot of the CPU.\n",
    "from gbgm import gbgm\n",
    "if __name__ == '__main__':\n",
    "    p = multiprocessing.Pool()\n",
    "    results = p.map(gbgm, f)\n",
    "    p.close()"
   ]
  },
  {
   "cell_type": "code",
   "execution_count": 19,
   "metadata": {},
   "outputs": [
    {
     "data": {
      "text/html": [
       "<div>\n",
       "<style scoped>\n",
       "    .dataframe tbody tr th:only-of-type {\n",
       "        vertical-align: middle;\n",
       "    }\n",
       "\n",
       "    .dataframe tbody tr th {\n",
       "        vertical-align: top;\n",
       "    }\n",
       "\n",
       "    .dataframe thead th {\n",
       "        text-align: right;\n",
       "    }\n",
       "</style>\n",
       "<table border=\"1\" class=\"dataframe\">\n",
       "  <thead>\n",
       "    <tr style=\"text-align: right;\">\n",
       "      <th></th>\n",
       "      <th>AIC</th>\n",
       "      <th>Order</th>\n",
       "    </tr>\n",
       "  </thead>\n",
       "  <tbody>\n",
       "    <tr>\n",
       "      <th>0</th>\n",
       "      <td>26038.5153</td>\n",
       "      <td>(7, 0)</td>\n",
       "    </tr>\n",
       "  </tbody>\n",
       "</table>\n",
       "</div>"
      ],
      "text/plain": [
       "          AIC   Order\n",
       "0  26038.5153  (7, 0)"
      ]
     },
     "execution_count": 19,
     "metadata": {},
     "output_type": "execute_result"
    }
   ],
   "source": [
    "aic2 = pd.DataFrame(results, columns=['AIC', 'Order'])\n",
    "aic2.sort_values('AIC', inplace=True)\n",
    "aic2.reset_index(inplace=True, drop=True)\n",
    "aic2.replace([np.inf, -np.inf], np.nan, inplace=True)\n",
    "aic2.dropna(inplace=True)\n",
    "aic2"
   ]
  },
  {
   "cell_type": "code",
   "execution_count": 20,
   "metadata": {},
   "outputs": [],
   "source": [
    "p2 = aic2.iloc[0][1][0]\n",
    "q2 = aic2.iloc[0][1][1]\n",
    "pq.update({'GARCH' : (p2 , q2)})"
   ]
  },
  {
   "cell_type": "code",
   "execution_count": 21,
   "metadata": {},
   "outputs": [
    {
     "name": "stdout",
     "output_type": "stream",
     "text": [
      "                        Zero Mean - ARCH Model Results                        \n",
      "==============================================================================\n",
      "Dep. Variable:                   None   R-squared:                       0.000\n",
      "Mean Model:                 Zero Mean   Adj. R-squared:                  0.000\n",
      "Vol Model:                       ARCH   Log-Likelihood:               -13011.3\n",
      "Distribution:                  Normal   AIC:                           26038.5\n",
      "Method:            Maximum Likelihood   BIC:                           26088.6\n",
      "                                        No. Observations:                 3871\n",
      "Date:                Mon, Jan 27 2020   Df Residuals:                     3863\n",
      "Time:                        20:17:07   Df Model:                            8\n",
      "                              Volatility Model                             \n",
      "===========================================================================\n",
      "                 coef    std err          t      P>|t|     95.0% Conf. Int.\n",
      "---------------------------------------------------------------------------\n",
      "omega         11.0765      2.312      4.791  1.658e-06    [  6.545, 15.608]\n",
      "alpha[1]       0.1192  5.360e-02      2.224  2.615e-02  [1.415e-02,  0.224]\n",
      "alpha[2]       0.1637  7.804e-02      2.098  3.590e-02  [1.078e-02,  0.317]\n",
      "alpha[3]       0.1821  5.918e-02      3.077  2.093e-03  [6.608e-02,  0.298]\n",
      "alpha[4]       0.1774  5.107e-02      3.475  5.114e-04  [7.735e-02,  0.278]\n",
      "alpha[5]       0.2193  9.205e-02      2.382  1.722e-02  [3.885e-02,  0.400]\n",
      "alpha[6]       0.0797  2.593e-02      3.074  2.112e-03  [2.889e-02,  0.131]\n",
      "alpha[7]       0.0586  3.130e-02      1.871  6.133e-02 [-2.781e-03,  0.120]\n",
      "===========================================================================\n",
      "\n",
      "Covariance estimator: robust\n"
     ]
    }
   ],
   "source": [
    "from arch import arch_model\n",
    "arma_garch = arch_model(arima.resid, p=p2, q=q2, mean='Zero', rescale=True).fit(disp='off')\n",
    "print(arma_garch.summary())"
   ]
  },
  {
   "cell_type": "markdown",
   "metadata": {},
   "source": [
    "## Estimating best EGARCH model"
   ]
  },
  {
   "cell_type": "code",
   "execution_count": 22,
   "metadata": {},
   "outputs": [],
   "source": [
    "f = []\n",
    "for i in range(11):\n",
    "    f.append((arima.resid, i, 'EGARCH'))"
   ]
  },
  {
   "cell_type": "code",
   "execution_count": 23,
   "metadata": {},
   "outputs": [],
   "source": [
    "# WARNING!!! This uses a lot of the CPU.\n",
    "if __name__ == '__main__':\n",
    "    p = multiprocessing.Pool()\n",
    "    results = p.map(gbgm, f)\n",
    "    p.close()"
   ]
  },
  {
   "cell_type": "code",
   "execution_count": 24,
   "metadata": {},
   "outputs": [
    {
     "data": {
      "text/html": [
       "<div>\n",
       "<style scoped>\n",
       "    .dataframe tbody tr th:only-of-type {\n",
       "        vertical-align: middle;\n",
       "    }\n",
       "\n",
       "    .dataframe tbody tr th {\n",
       "        vertical-align: top;\n",
       "    }\n",
       "\n",
       "    .dataframe thead th {\n",
       "        text-align: right;\n",
       "    }\n",
       "</style>\n",
       "<table border=\"1\" class=\"dataframe\">\n",
       "  <thead>\n",
       "    <tr style=\"text-align: right;\">\n",
       "      <th></th>\n",
       "      <th>AIC</th>\n",
       "      <th>Order</th>\n",
       "    </tr>\n",
       "  </thead>\n",
       "  <tbody>\n",
       "    <tr>\n",
       "      <th>0</th>\n",
       "      <td>25589.4342</td>\n",
       "      <td>(2, 1)</td>\n",
       "    </tr>\n",
       "    <tr>\n",
       "      <th>1</th>\n",
       "      <td>26191.6798</td>\n",
       "      <td>(10, 0)</td>\n",
       "    </tr>\n",
       "  </tbody>\n",
       "</table>\n",
       "</div>"
      ],
      "text/plain": [
       "          AIC    Order\n",
       "0  25589.4342   (2, 1)\n",
       "1  26191.6798  (10, 0)"
      ]
     },
     "execution_count": 24,
     "metadata": {},
     "output_type": "execute_result"
    }
   ],
   "source": [
    "aic3 = pd.DataFrame(results, columns=['AIC', 'Order'])\n",
    "aic3.sort_values('AIC', inplace=True)\n",
    "aic3.reset_index(inplace=True, drop=True)\n",
    "aic3.replace([np.inf, -np.inf], np.nan, inplace=True)\n",
    "aic3.dropna(inplace=True)\n",
    "aic3"
   ]
  },
  {
   "cell_type": "code",
   "execution_count": 25,
   "metadata": {},
   "outputs": [],
   "source": [
    "p3 = aic3.iloc[0][1][0]\n",
    "q3 = aic3.iloc[0][1][1]\n",
    "pq.update({'EGARCH' : (p3 , q3)})"
   ]
  },
  {
   "cell_type": "code",
   "execution_count": 26,
   "metadata": {},
   "outputs": [
    {
     "name": "stdout",
     "output_type": "stream",
     "text": [
      "                       Zero Mean - EGARCH Model Results                       \n",
      "==============================================================================\n",
      "Dep. Variable:                   None   R-squared:                       0.000\n",
      "Mean Model:                 Zero Mean   Adj. R-squared:                  0.000\n",
      "Vol Model:                     EGARCH   Log-Likelihood:               -12790.7\n",
      "Distribution:                  Normal   AIC:                           25589.4\n",
      "Method:            Maximum Likelihood   BIC:                           25614.5\n",
      "                                        No. Observations:                 3871\n",
      "Date:                Mon, Jan 27 2020   Df Residuals:                     3867\n",
      "Time:                        20:17:26   Df Model:                            4\n",
      "                               Volatility Model                              \n",
      "=============================================================================\n",
      "                 coef    std err          t      P>|t|       95.0% Conf. Int.\n",
      "-----------------------------------------------------------------------------\n",
      "omega          0.0144  7.856e-03      1.830  6.718e-02 [-1.017e-03,2.978e-02]\n",
      "alpha[1]       0.3182      0.111      2.869  4.112e-03      [  0.101,  0.535]\n",
      "alpha[2]      -0.2488      0.111     -2.246  2.473e-02   [ -0.466,-3.165e-02]\n",
      "beta[1]        0.9983  1.728e-03    577.771      0.000      [  0.995,  1.002]\n",
      "=============================================================================\n",
      "\n",
      "Covariance estimator: robust\n"
     ]
    }
   ],
   "source": [
    "from arch import arch_model\n",
    "arma_egarch = arch_model(arima.resid, p=p3, q=q3, vol='EGARCH', mean='Zero', rescale=True).fit(disp='off')\n",
    "print(arma_egarch.summary())"
   ]
  },
  {
   "cell_type": "markdown",
   "metadata": {},
   "source": [
    "## Estimating best FIGARCH model"
   ]
  },
  {
   "cell_type": "code",
   "execution_count": 27,
   "metadata": {},
   "outputs": [],
   "source": [
    "f = []\n",
    "for i in range(11):\n",
    "    f.append((arima.resid, i, 'FIGARCH'))"
   ]
  },
  {
   "cell_type": "code",
   "execution_count": 28,
   "metadata": {},
   "outputs": [],
   "source": [
    "# WARNING!!! This uses a lot of the CPU.\n",
    "if __name__ == '__main__':\n",
    "    p = multiprocessing.Pool()\n",
    "    results = p.map(gbgm, f)\n",
    "    p.close()"
   ]
  },
  {
   "cell_type": "code",
   "execution_count": 29,
   "metadata": {},
   "outputs": [
    {
     "data": {
      "text/html": [
       "<div>\n",
       "<style scoped>\n",
       "    .dataframe tbody tr th:only-of-type {\n",
       "        vertical-align: middle;\n",
       "    }\n",
       "\n",
       "    .dataframe tbody tr th {\n",
       "        vertical-align: top;\n",
       "    }\n",
       "\n",
       "    .dataframe thead th {\n",
       "        text-align: right;\n",
       "    }\n",
       "</style>\n",
       "<table border=\"1\" class=\"dataframe\">\n",
       "  <thead>\n",
       "    <tr style=\"text-align: right;\">\n",
       "      <th></th>\n",
       "      <th>AIC</th>\n",
       "      <th>Order</th>\n",
       "    </tr>\n",
       "  </thead>\n",
       "  <tbody>\n",
       "    <tr>\n",
       "      <th>0</th>\n",
       "      <td>25711.9405</td>\n",
       "      <td>(0, 1)</td>\n",
       "    </tr>\n",
       "    <tr>\n",
       "      <th>1</th>\n",
       "      <td>25787.8595</td>\n",
       "      <td>(0, 0)</td>\n",
       "    </tr>\n",
       "  </tbody>\n",
       "</table>\n",
       "</div>"
      ],
      "text/plain": [
       "          AIC   Order\n",
       "0  25711.9405  (0, 1)\n",
       "1  25787.8595  (0, 0)"
      ]
     },
     "execution_count": 29,
     "metadata": {},
     "output_type": "execute_result"
    }
   ],
   "source": [
    "aic4 = pd.DataFrame(results, columns=['AIC', 'Order'])\n",
    "aic4.sort_values('AIC', inplace=True)\n",
    "aic4.reset_index(inplace=True, drop=True)\n",
    "aic4.replace([np.inf, -np.inf], np.nan, inplace=True)\n",
    "aic4.dropna(inplace=True)\n",
    "aic4"
   ]
  },
  {
   "cell_type": "code",
   "execution_count": 30,
   "metadata": {},
   "outputs": [],
   "source": [
    "p4 = aic4.iloc[0][1][0]\n",
    "q4 = aic4.iloc[0][1][1]\n",
    "pq.update({'FIGARCH' : (p4 , q4)})"
   ]
  },
  {
   "cell_type": "code",
   "execution_count": 31,
   "metadata": {},
   "outputs": [
    {
     "name": "stdout",
     "output_type": "stream",
     "text": [
      "                      Zero Mean - FIGARCH Model Results                       \n",
      "==============================================================================\n",
      "Dep. Variable:                   None   R-squared:                       0.000\n",
      "Mean Model:                 Zero Mean   Adj. R-squared:                  0.000\n",
      "Vol Model:                    FIGARCH   Log-Likelihood:               -12853.0\n",
      "Distribution:                  Normal   AIC:                           25711.9\n",
      "Method:            Maximum Likelihood   BIC:                           25730.7\n",
      "                                        No. Observations:                 3871\n",
      "Date:                Mon, Jan 27 2020   Df Residuals:                     3868\n",
      "Time:                        20:17:34   Df Model:                            3\n",
      "                            Volatility Model                            \n",
      "========================================================================\n",
      "                 coef    std err          t      P>|t|  95.0% Conf. Int.\n",
      "------------------------------------------------------------------------\n",
      "omega          4.1541      1.225      3.390  6.987e-04 [  1.752,  6.556]\n",
      "d              0.3392  3.338e-02     10.162  2.932e-24 [  0.274,  0.405]\n",
      "beta           0.2654  5.283e-02      5.024  5.056e-07 [  0.162,  0.369]\n",
      "========================================================================\n",
      "\n",
      "Covariance estimator: robust\n"
     ]
    }
   ],
   "source": [
    "from arch import arch_model\n",
    "arma_figarch = arch_model(arima.resid, p=p4, q=q4, vol='FIGARCH', mean='Zero', rescale=True).fit(disp='off')\n",
    "print(arma_figarch.summary())"
   ]
  },
  {
   "cell_type": "code",
   "execution_count": 32,
   "metadata": {},
   "outputs": [
    {
     "data": {
      "text/html": [
       "<div>\n",
       "<style scoped>\n",
       "    .dataframe tbody tr th:only-of-type {\n",
       "        vertical-align: middle;\n",
       "    }\n",
       "\n",
       "    .dataframe tbody tr th {\n",
       "        vertical-align: top;\n",
       "    }\n",
       "\n",
       "    .dataframe thead th {\n",
       "        text-align: right;\n",
       "    }\n",
       "</style>\n",
       "<table border=\"1\" class=\"dataframe\">\n",
       "  <thead>\n",
       "    <tr style=\"text-align: right;\">\n",
       "      <th></th>\n",
       "      <th>Google</th>\n",
       "      <th>DGoogle</th>\n",
       "      <th>Variance</th>\n",
       "    </tr>\n",
       "    <tr>\n",
       "      <th>Date</th>\n",
       "      <th></th>\n",
       "      <th></th>\n",
       "      <th></th>\n",
       "    </tr>\n",
       "  </thead>\n",
       "  <tbody>\n",
       "    <tr>\n",
       "      <th>2020-01-08</th>\n",
       "      <td>1404.319946</td>\n",
       "      <td>10.979980</td>\n",
       "      <td>112.867595</td>\n",
       "    </tr>\n",
       "    <tr>\n",
       "      <th>2020-01-09</th>\n",
       "      <td>1419.829956</td>\n",
       "      <td>15.510010</td>\n",
       "      <td>229.642085</td>\n",
       "    </tr>\n",
       "    <tr>\n",
       "      <th>2020-01-10</th>\n",
       "      <td>1429.729980</td>\n",
       "      <td>9.900024</td>\n",
       "      <td>91.087176</td>\n",
       "    </tr>\n",
       "  </tbody>\n",
       "</table>\n",
       "</div>"
      ],
      "text/plain": [
       "                 Google    DGoogle    Variance\n",
       "Date                                          \n",
       "2020-01-08  1404.319946  10.979980  112.867595\n",
       "2020-01-09  1419.829956  15.510010  229.642085\n",
       "2020-01-10  1429.729980   9.900024   91.087176"
      ]
     },
     "execution_count": 32,
     "metadata": {},
     "output_type": "execute_result"
    }
   ],
   "source": [
    "df['Variance'] = (df[f'D{stock}']-df[f'D{stock}'].mean())**2\n",
    "fdf = pd.DataFrame()\n",
    "fdf = df.tail(3).copy()\n",
    "fdf.set_index('Date', drop=True, inplace=True)\n",
    "fdf.head()"
   ]
  },
  {
   "cell_type": "code",
   "execution_count": 33,
   "metadata": {},
   "outputs": [],
   "source": [
    "df.reset_index(inplace=True, drop=True)"
   ]
  },
  {
   "cell_type": "markdown",
   "metadata": {},
   "source": [
    "## Making 3 steps ahead forecast for each model"
   ]
  },
  {
   "cell_type": "code",
   "execution_count": 34,
   "metadata": {},
   "outputs": [
    {
     "data": {
      "text/html": [
       "<div>\n",
       "<style scoped>\n",
       "    .dataframe tbody tr th:only-of-type {\n",
       "        vertical-align: middle;\n",
       "    }\n",
       "\n",
       "    .dataframe tbody tr th {\n",
       "        vertical-align: top;\n",
       "    }\n",
       "\n",
       "    .dataframe thead th {\n",
       "        text-align: right;\n",
       "    }\n",
       "</style>\n",
       "<table border=\"1\" class=\"dataframe\">\n",
       "  <thead>\n",
       "    <tr style=\"text-align: right;\">\n",
       "      <th></th>\n",
       "      <th>Google</th>\n",
       "      <th>DGoogle</th>\n",
       "      <th>Variance</th>\n",
       "      <th>GARCH</th>\n",
       "      <th>EGARCH</th>\n",
       "      <th>FIGARCH</th>\n",
       "    </tr>\n",
       "    <tr>\n",
       "      <th>Date</th>\n",
       "      <th></th>\n",
       "      <th></th>\n",
       "      <th></th>\n",
       "      <th></th>\n",
       "      <th></th>\n",
       "      <th></th>\n",
       "    </tr>\n",
       "  </thead>\n",
       "  <tbody>\n",
       "    <tr>\n",
       "      <th>2020-01-08</th>\n",
       "      <td>1404.319946</td>\n",
       "      <td>10.979980</td>\n",
       "      <td>112.867595</td>\n",
       "      <td>357.645955</td>\n",
       "      <td>177.663147</td>\n",
       "      <td>315.114559</td>\n",
       "    </tr>\n",
       "    <tr>\n",
       "      <th>2020-01-09</th>\n",
       "      <td>1419.829956</td>\n",
       "      <td>15.510010</td>\n",
       "      <td>229.642085</td>\n",
       "      <td>491.215491</td>\n",
       "      <td>226.273557</td>\n",
       "      <td>264.276024</td>\n",
       "    </tr>\n",
       "    <tr>\n",
       "      <th>2020-01-10</th>\n",
       "      <td>1429.729980</td>\n",
       "      <td>9.900024</td>\n",
       "      <td>91.087176</td>\n",
       "      <td>357.633741</td>\n",
       "      <td>233.373077</td>\n",
       "      <td>243.135037</td>\n",
       "    </tr>\n",
       "  </tbody>\n",
       "</table>\n",
       "</div>"
      ],
      "text/plain": [
       "                 Google    DGoogle    Variance       GARCH      EGARCH  \\\n",
       "Date                                                                     \n",
       "2020-01-08  1404.319946  10.979980  112.867595  357.645955  177.663147   \n",
       "2020-01-09  1419.829956  15.510010  229.642085  491.215491  226.273557   \n",
       "2020-01-10  1429.729980   9.900024   91.087176  357.633741  233.373077   \n",
       "\n",
       "               FIGARCH  \n",
       "Date                    \n",
       "2020-01-08  315.114559  \n",
       "2020-01-09  264.276024  \n",
       "2020-01-10  243.135037  "
      ]
     },
     "execution_count": 34,
     "metadata": {},
     "output_type": "execute_result"
    }
   ],
   "source": [
    "for i in range(1, len(pq)):\n",
    "    g = []\n",
    "    for j in range(1,4):\n",
    "        farima = ARIMA(df[f'{stock}'][:-j], order=(p1,1,q2)).fit()\n",
    "        fgarch = arch_model(farima.resid, p=list(pq.values())[i][0], q=list(pq.values())[i][1], vol=f'{list(pq.keys())[i]}', mean='Zero', rescale=True).fit(disp='off')\n",
    "        garch = fgarch.forecast(horizon=1)\n",
    "        g.append(garch.variance.tail(1)['h.1'].iloc[0])\n",
    "\n",
    "    g.reverse()\n",
    "\n",
    "    fdf[f'{list(pq.keys())[i]}'] = g\n",
    "\n",
    "fdf.tail()"
   ]
  },
  {
   "cell_type": "code",
   "execution_count": 35,
   "metadata": {},
   "outputs": [],
   "source": [
    "fdf.dropna(inplace=True)"
   ]
  },
  {
   "cell_type": "markdown",
   "metadata": {},
   "source": [
    "## Evaluation of the models"
   ]
  },
  {
   "cell_type": "code",
   "execution_count": 36,
   "metadata": {},
   "outputs": [
    {
     "name": "stdout",
     "output_type": "stream",
     "text": [
      "The MAE for the GARCH model is: 257.6327772799213\n",
      "The MAE for the EGARCH model is: 70.14999386076713\n",
      "The MAE for the FIGARCH model is: 129.64292170642602\n"
     ]
    }
   ],
   "source": [
    "from sklearn.metrics import mean_absolute_error\n",
    "for i in range(1, len(pq)):\n",
    "    print(f'The MAE for the {list(pq.keys())[i]} model is: ' + str(mean_absolute_error(fdf['Variance'], fdf[f'{list(pq.keys())[i]}'])))"
   ]
  },
  {
   "cell_type": "markdown",
   "metadata": {},
   "source": [
    "## Visualization"
   ]
  },
  {
   "cell_type": "code",
   "execution_count": 37,
   "metadata": {},
   "outputs": [
    {
     "data": {
      "image/png": "[encoded data removed]",
      "text/plain": [
       "<Figure size 1008x648 with 1 Axes>"
      ]
     },
     "metadata": {},
     "output_type": "display_data"
    }
   ],
   "source": [
    "import matplotlib.pyplot as plt\n",
    "plt.figure(figsize=(14,9))\n",
    "plt.plot(fdf['Variance'], color = 'black', label = 'Real Variance of Stock Price Returns')\n",
    "plt.plot(fdf['GARCH'], color = 'red', label = 'GARCH Predicted Variance')\n",
    "plt.plot(fdf['EGARCH'], color = 'blue', label = 'EGARCH Predicted Variance')\n",
    "plt.plot(fdf['FIGARCH'], color = 'green', label = 'FIGARCH Predicted Variance')\n",
    "plt.title(f'Variance of Stock Price Returns Prediction for {stock}')\n",
    "plt.xlabel('Date')\n",
    "plt.ylabel('Variance')\n",
    "plt.legend()\n",
    "plt.show()"
   ]
  },
  {
   "cell_type": "code",
   "execution_count": 38,
   "metadata": {},
   "outputs": [],
   "source": [
    "fdf.to_excel(f\"{stock} Forecasts.xlsx\")"
   ]
  }
 ],
 "metadata": {
  "kernelspec": {
   "display_name": "Python 3",
   "language": "python",
   "name": "python3"
  },
  "language_info": {
   "codemirror_mode": {
    "name": "ipython",
    "version": 3
   },
   "file_extension": ".py",
   "mimetype": "text/x-python",
   "name": "python",
   "nbconvert_exporter": "python",
   "pygments_lexer": "ipython3",
   "version": "3.7.5"
  }
 },
 "nbformat": 4,
 "nbformat_minor": 2
}
