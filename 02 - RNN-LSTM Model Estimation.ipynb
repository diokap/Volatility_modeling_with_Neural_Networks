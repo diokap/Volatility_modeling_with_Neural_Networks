{
 "cells": [
  {
   "cell_type": "code",
   "execution_count": 1,
   "metadata": {},
   "outputs": [],
   "source": [
    "# If you run this it won't necessarily give you the best RNN model.\n",
    "# I've saved the best model that I estimated and I use it in the next Jupyter Notebook.\n",
    "# This just an example of the steps I took for estimating the model.\n",
    "stock = 'Google' \n",
    "timesteps = 6 # This is the number of lags"
   ]
  },
  {
   "cell_type": "markdown",
   "metadata": {},
   "source": [
    "## Loading Data"
   ]
  },
  {
   "cell_type": "code",
   "execution_count": 2,
   "metadata": {},
   "outputs": [],
   "source": [
    "import matplotlib.pyplot as plt\n",
    "import seaborn as sns\n",
    "sns.set()\n",
    "import pandas as pd"
   ]
  },
  {
   "cell_type": "code",
   "execution_count": 3,
   "metadata": {},
   "outputs": [
    {
     "data": {
      "text/html": [
       "<div>\n",
       "<style scoped>\n",
       "    .dataframe tbody tr th:only-of-type {\n",
       "        vertical-align: middle;\n",
       "    }\n",
       "\n",
       "    .dataframe tbody tr th {\n",
       "        vertical-align: top;\n",
       "    }\n",
       "\n",
       "    .dataframe thead th {\n",
       "        text-align: right;\n",
       "    }\n",
       "</style>\n",
       "<table border=\"1\" class=\"dataframe\">\n",
       "  <thead>\n",
       "    <tr style=\"text-align: right;\">\n",
       "      <th></th>\n",
       "      <th>Date</th>\n",
       "      <th>Open</th>\n",
       "      <th>High</th>\n",
       "      <th>Low</th>\n",
       "      <th>Close</th>\n",
       "      <th>Adj Close</th>\n",
       "      <th>Volume</th>\n",
       "    </tr>\n",
       "  </thead>\n",
       "  <tbody>\n",
       "    <tr>\n",
       "      <th>3871</th>\n",
       "      <td>2020-01-06</td>\n",
       "      <td>1350.000000</td>\n",
       "      <td>1396.500000</td>\n",
       "      <td>1350.000000</td>\n",
       "      <td>1394.209961</td>\n",
       "      <td>1394.209961</td>\n",
       "      <td>1732300</td>\n",
       "    </tr>\n",
       "    <tr>\n",
       "      <th>3872</th>\n",
       "      <td>2020-01-07</td>\n",
       "      <td>1397.939941</td>\n",
       "      <td>1402.989990</td>\n",
       "      <td>1390.380005</td>\n",
       "      <td>1393.339966</td>\n",
       "      <td>1393.339966</td>\n",
       "      <td>1502700</td>\n",
       "    </tr>\n",
       "    <tr>\n",
       "      <th>3873</th>\n",
       "      <td>2020-01-08</td>\n",
       "      <td>1392.079956</td>\n",
       "      <td>1411.579956</td>\n",
       "      <td>1390.839966</td>\n",
       "      <td>1404.319946</td>\n",
       "      <td>1404.319946</td>\n",
       "      <td>1528000</td>\n",
       "    </tr>\n",
       "    <tr>\n",
       "      <th>3874</th>\n",
       "      <td>2020-01-09</td>\n",
       "      <td>1420.569946</td>\n",
       "      <td>1427.329956</td>\n",
       "      <td>1410.270020</td>\n",
       "      <td>1419.829956</td>\n",
       "      <td>1419.829956</td>\n",
       "      <td>1500900</td>\n",
       "    </tr>\n",
       "    <tr>\n",
       "      <th>3875</th>\n",
       "      <td>2020-01-10</td>\n",
       "      <td>1427.560059</td>\n",
       "      <td>1434.928955</td>\n",
       "      <td>1418.349976</td>\n",
       "      <td>1429.729980</td>\n",
       "      <td>1429.729980</td>\n",
       "      <td>1820700</td>\n",
       "    </tr>\n",
       "  </tbody>\n",
       "</table>\n",
       "</div>"
      ],
      "text/plain": [
       "            Date         Open         High          Low        Close  \\\n",
       "3871  2020-01-06  1350.000000  1396.500000  1350.000000  1394.209961   \n",
       "3872  2020-01-07  1397.939941  1402.989990  1390.380005  1393.339966   \n",
       "3873  2020-01-08  1392.079956  1411.579956  1390.839966  1404.319946   \n",
       "3874  2020-01-09  1420.569946  1427.329956  1410.270020  1419.829956   \n",
       "3875  2020-01-10  1427.560059  1434.928955  1418.349976  1429.729980   \n",
       "\n",
       "        Adj Close   Volume  \n",
       "3871  1394.209961  1732300  \n",
       "3872  1393.339966  1502700  \n",
       "3873  1404.319946  1528000  \n",
       "3874  1419.829956  1500900  \n",
       "3875  1429.729980  1820700  "
      ]
     },
     "execution_count": 3,
     "metadata": {},
     "output_type": "execute_result"
    }
   ],
   "source": [
    "df = pd.read_csv(f'{stock}.csv')\n",
    "df.tail()"
   ]
  },
  {
   "cell_type": "code",
   "execution_count": 4,
   "metadata": {},
   "outputs": [],
   "source": [
    "data = pd.DataFrame()\n",
    "data[f'{stock}'] = df['Adj Close'].copy()"
   ]
  },
  {
   "cell_type": "code",
   "execution_count": 5,
   "metadata": {},
   "outputs": [],
   "source": [
    "data[f'D{stock}'] = data[f'{stock}'].diff()\n",
    "data['Variance'] = (data[f'D{stock}']-data[f'D{stock}'].mean())**2"
   ]
  },
  {
   "cell_type": "code",
   "execution_count": 6,
   "metadata": {},
   "outputs": [
    {
     "data": {
      "text/html": [
       "<div>\n",
       "<style scoped>\n",
       "    .dataframe tbody tr th:only-of-type {\n",
       "        vertical-align: middle;\n",
       "    }\n",
       "\n",
       "    .dataframe tbody tr th {\n",
       "        vertical-align: top;\n",
       "    }\n",
       "\n",
       "    .dataframe thead th {\n",
       "        text-align: right;\n",
       "    }\n",
       "</style>\n",
       "<table border=\"1\" class=\"dataframe\">\n",
       "  <thead>\n",
       "    <tr style=\"text-align: right;\">\n",
       "      <th></th>\n",
       "      <th>Google</th>\n",
       "      <th>DGoogle</th>\n",
       "      <th>Variance</th>\n",
       "    </tr>\n",
       "  </thead>\n",
       "  <tbody>\n",
       "    <tr>\n",
       "      <th>3871</th>\n",
       "      <td>1394.209961</td>\n",
       "      <td>33.549927</td>\n",
       "      <td>1101.832552</td>\n",
       "    </tr>\n",
       "    <tr>\n",
       "      <th>3872</th>\n",
       "      <td>1393.339966</td>\n",
       "      <td>-0.869995</td>\n",
       "      <td>1.503220</td>\n",
       "    </tr>\n",
       "    <tr>\n",
       "      <th>3873</th>\n",
       "      <td>1404.319946</td>\n",
       "      <td>10.979980</td>\n",
       "      <td>112.867595</td>\n",
       "    </tr>\n",
       "    <tr>\n",
       "      <th>3874</th>\n",
       "      <td>1419.829956</td>\n",
       "      <td>15.510010</td>\n",
       "      <td>229.642085</td>\n",
       "    </tr>\n",
       "    <tr>\n",
       "      <th>3875</th>\n",
       "      <td>1429.729980</td>\n",
       "      <td>9.900024</td>\n",
       "      <td>91.087176</td>\n",
       "    </tr>\n",
       "  </tbody>\n",
       "</table>\n",
       "</div>"
      ],
      "text/plain": [
       "           Google    DGoogle     Variance\n",
       "3871  1394.209961  33.549927  1101.832552\n",
       "3872  1393.339966  -0.869995     1.503220\n",
       "3873  1404.319946  10.979980   112.867595\n",
       "3874  1419.829956  15.510010   229.642085\n",
       "3875  1429.729980   9.900024    91.087176"
      ]
     },
     "execution_count": 6,
     "metadata": {},
     "output_type": "execute_result"
    }
   ],
   "source": [
    "data.dropna(axis=0, inplace=True)\n",
    "data.tail()"
   ]
  },
  {
   "cell_type": "markdown",
   "metadata": {},
   "source": [
    "## Splitting the data in training and test sample"
   ]
  },
  {
   "cell_type": "code",
   "execution_count": 7,
   "metadata": {},
   "outputs": [],
   "source": [
    "data_training = pd.DataFrame()\n",
    "data_test = pd.DataFrame()\n",
    "data_training['Variance'] = data['Variance'][:-timesteps-3].copy()\n",
    "data_test['Variance'] = data['Variance'][-timesteps-3:].copy()"
   ]
  },
  {
   "cell_type": "code",
   "execution_count": 8,
   "metadata": {},
   "outputs": [
    {
     "data": {
      "text/plain": [
       "<matplotlib.axes._subplots.AxesSubplot at 0x2b9ef3e0908>"
      ]
     },
     "execution_count": 8,
     "metadata": {},
     "output_type": "execute_result"
    },
    {
     "data": {
      "image/png": "[encoded data removed]",
      "text/plain": [
       "<Figure size 432x288 with 1 Axes>"
      ]
     },
     "metadata": {
      "needs_background": "light"
     },
     "output_type": "display_data"
    }
   ],
   "source": [
    "data_training['Variance'].plot()"
   ]
  },
  {
   "cell_type": "markdown",
   "metadata": {},
   "source": [
    "## Training Data preprocessing"
   ]
  },
  {
   "cell_type": "code",
   "execution_count": 9,
   "metadata": {},
   "outputs": [
    {
     "data": {
      "text/plain": [
       "((3860, 6), (3860,))"
      ]
     },
     "execution_count": 9,
     "metadata": {},
     "output_type": "execute_result"
    }
   ],
   "source": [
    "import numpy as np\n",
    "\n",
    "x_train = []\n",
    "y_train = []\n",
    "\n",
    "for i in range(timesteps, data_training.shape[0]):\n",
    "    x_train.append(data_training['Variance'].iloc[i-timesteps:i].values.tolist())\n",
    "    y_train.append((data_training['Variance'].iloc[i]))\n",
    "\n",
    "x_train, y_train = np.array(x_train), np.array(y_train)\n",
    "\n",
    "x_train.shape, y_train.shape"
   ]
  },
  {
   "cell_type": "markdown",
   "metadata": {},
   "source": [
    "## Scaling the data"
   ]
  },
  {
   "cell_type": "code",
   "execution_count": 10,
   "metadata": {},
   "outputs": [
    {
     "data": {
      "text/plain": [
       "(3860, 6, 1)"
      ]
     },
     "execution_count": 10,
     "metadata": {},
     "output_type": "execute_result"
    }
   ],
   "source": [
    "# I am using logarithmic scale.\n",
    "from sklearn.preprocessing import FunctionTransformer\n",
    "scaler = FunctionTransformer(np.log1p, validate=True)\n",
    "x_train = scaler.fit_transform(x_train)\n",
    "x_train = x_train[..., np.newaxis]\n",
    "x_train.shape"
   ]
  },
  {
   "cell_type": "markdown",
   "metadata": {},
   "source": [
    "## Test data preprocessing"
   ]
  },
  {
   "cell_type": "code",
   "execution_count": 11,
   "metadata": {},
   "outputs": [
    {
     "data": {
      "text/plain": [
       "((3, 6), (3,))"
      ]
     },
     "execution_count": 11,
     "metadata": {},
     "output_type": "execute_result"
    }
   ],
   "source": [
    "x_test = []\n",
    "y_test = []\n",
    "\n",
    "for i in range(timesteps, data_test.shape[0]):\n",
    "    x_test.append(data_test['Variance'].iloc[i-timesteps:i].values.tolist())\n",
    "    y_test.append((data_test['Variance'].iloc[i]))\n",
    "\n",
    "x_test, y_test = np.array(x_test), np.array(y_test)\n",
    "\n",
    "x_test.shape, y_test.shape"
   ]
  },
  {
   "cell_type": "code",
   "execution_count": 12,
   "metadata": {},
   "outputs": [
    {
     "data": {
      "text/plain": [
       "(3, 6, 1)"
      ]
     },
     "execution_count": 12,
     "metadata": {},
     "output_type": "execute_result"
    }
   ],
   "source": [
    "x_test = scaler.transform(x_test)\n",
    "x_test = x_test[..., np.newaxis]\n",
    "x_test.shape"
   ]
  },
  {
   "cell_type": "markdown",
   "metadata": {},
   "source": [
    "## Tensorflow Model"
   ]
  },
  {
   "cell_type": "code",
   "execution_count": 13,
   "metadata": {},
   "outputs": [],
   "source": [
    "import tensorflow as tf\n",
    "from tensorflow.keras import Sequential\n",
    "from tensorflow.keras.layers import Dense, LSTM, GRU, Dropout, BatchNormalization\n",
    "from tensorflow.keras.callbacks import ModelCheckpoint"
   ]
  },
  {
   "cell_type": "code",
   "execution_count": 14,
   "metadata": {},
   "outputs": [],
   "source": [
    "model = Sequential()\n",
    "\n",
    "model.add(LSTM(units = 60, activation = 'relu', return_sequences = True, input_shape = (timesteps, 1)))\n",
    "model.add(Dropout(0.2))\n",
    "model.add(BatchNormalization())\n",
    "\n",
    "model.add(LSTM(units = 60, activation = 'relu', return_sequences = True))\n",
    "model.add(Dropout(0.2))\n",
    "model.add(BatchNormalization())\n",
    "\n",
    "model.add(LSTM(units = 60, activation = 'relu'))\n",
    "model.add(Dropout(0.2))\n",
    "model.add(BatchNormalization())\n",
    "\n",
    "model.add(Dense(units = 1, activation = 'relu'))"
   ]
  },
  {
   "cell_type": "code",
   "execution_count": 15,
   "metadata": {},
   "outputs": [],
   "source": [
    "opt = tf.keras.optimizers.Adam(lr=0.001, decay=1e-6)"
   ]
  },
  {
   "cell_type": "code",
   "execution_count": 16,
   "metadata": {},
   "outputs": [],
   "source": [
    "model.compile(optimizer=opt, loss = 'mean_absolute_error')"
   ]
  },
  {
   "cell_type": "code",
   "execution_count": 17,
   "metadata": {},
   "outputs": [
    {
     "name": "stdout",
     "output_type": "stream",
     "text": [
      "Model: \"sequential\"\n",
      "_________________________________________________________________\n",
      "Layer (type)                 Output Shape              Param #   \n",
      "=================================================================\n",
      "lstm (LSTM)                  (None, 6, 60)             14880     \n",
      "_________________________________________________________________\n",
      "dropout (Dropout)            (None, 6, 60)             0         \n",
      "_________________________________________________________________\n",
      "batch_normalization (BatchNo (None, 6, 60)             240       \n",
      "_________________________________________________________________\n",
      "lstm_1 (LSTM)                (None, 6, 60)             29040     \n",
      "_________________________________________________________________\n",
      "dropout_1 (Dropout)          (None, 6, 60)             0         \n",
      "_________________________________________________________________\n",
      "batch_normalization_1 (Batch (None, 6, 60)             240       \n",
      "_________________________________________________________________\n",
      "lstm_2 (LSTM)                (None, 60)                29040     \n",
      "_________________________________________________________________\n",
      "dropout_2 (Dropout)          (None, 60)                0         \n",
      "_________________________________________________________________\n",
      "batch_normalization_2 (Batch (None, 60)                240       \n",
      "_________________________________________________________________\n",
      "dense (Dense)                (None, 1)                 61        \n",
      "=================================================================\n",
      "Total params: 73,741\n",
      "Trainable params: 73,381\n",
      "Non-trainable params: 360\n",
      "_________________________________________________________________\n"
     ]
    }
   ],
   "source": [
    "model.summary()"
   ]
  },
  {
   "cell_type": "code",
   "execution_count": 18,
   "metadata": {},
   "outputs": [
    {
     "name": "stdout",
     "output_type": "stream",
     "text": [
      "Train on 3860 samples\n",
      "Epoch 1/50\n",
      "3860/3860 [==============================] - 13s 3ms/sample - loss: 79.5320\n",
      "Epoch 2/50\n",
      "3860/3860 [==============================] - 6s 1ms/sample - loss: 78.2132\n",
      "Epoch 3/50\n",
      "3860/3860 [==============================] - 6s 2ms/sample - loss: 77.4070\n",
      "Epoch 4/50\n",
      "3860/3860 [==============================] - 5s 1ms/sample - loss: 77.0473\n",
      "Epoch 5/50\n",
      "3860/3860 [==============================] - 5s 1ms/sample - loss: 76.5964\n",
      "Epoch 6/50\n",
      "3860/3860 [==============================] - 5s 1ms/sample - loss: 76.6291\n",
      "Epoch 7/50\n",
      "3860/3860 [==============================] - 5s 1ms/sample - loss: 76.5122\n",
      "Epoch 8/50\n",
      "3860/3860 [==============================] - 4s 1ms/sample - loss: 76.4591\n",
      "Epoch 9/50\n",
      "3860/3860 [==============================] - 6s 1ms/sample - loss: 76.3833\n",
      "Epoch 10/50\n",
      "3860/3860 [==============================] - 6s 2ms/sample - loss: 76.3837\n",
      "Epoch 11/50\n",
      "3860/3860 [==============================] - 5s 1ms/sample - loss: 76.4064\n",
      "Epoch 12/50\n",
      "3860/3860 [==============================] - 5s 1ms/sample - loss: 76.2600\n",
      "Epoch 13/50\n",
      "3860/3860 [==============================] - 4s 1ms/sample - loss: 76.1896\n",
      "Epoch 14/50\n",
      "3860/3860 [==============================] - 5s 1ms/sample - loss: 76.1849\n",
      "Epoch 15/50\n",
      "3860/3860 [==============================] - 4s 1ms/sample - loss: 76.2240\n",
      "Epoch 16/50\n",
      "3860/3860 [==============================] - 5s 1ms/sample - loss: 76.1656\n",
      "Epoch 17/50\n",
      "3860/3860 [==============================] - 5s 1ms/sample - loss: 76.0733\n",
      "Epoch 18/50\n",
      "3860/3860 [==============================] - 5s 1ms/sample - loss: 75.9774\n",
      "Epoch 19/50\n",
      "3860/3860 [==============================] - 5s 1ms/sample - loss: 76.3141\n",
      "Epoch 20/50\n",
      "3860/3860 [==============================] - 5s 1ms/sample - loss: 76.0457\n",
      "Epoch 21/50\n",
      "3860/3860 [==============================] - 6s 2ms/sample - loss: 76.0064\n",
      "Epoch 22/50\n",
      "3860/3860 [==============================] - 5s 1ms/sample - loss: 76.0599\n",
      "Epoch 23/50\n",
      "3860/3860 [==============================] - 5s 1ms/sample - loss: 76.0501\n",
      "Epoch 24/50\n",
      "3860/3860 [==============================] - 5s 1ms/sample - loss: 75.9831\n",
      "Epoch 25/50\n",
      "3860/3860 [==============================] - 5s 1ms/sample - loss: 76.3011\n",
      "Epoch 26/50\n",
      "3860/3860 [==============================] - 5s 1ms/sample - loss: 76.0086\n",
      "Epoch 27/50\n",
      "3860/3860 [==============================] - 5s 1ms/sample - loss: 76.0398\n",
      "Epoch 28/50\n",
      "3860/3860 [==============================] - 5s 1ms/sample - loss: 75.7013\n",
      "Epoch 29/50\n",
      "3860/3860 [==============================] - 5s 1ms/sample - loss: 75.9483\n",
      "Epoch 30/50\n",
      "3860/3860 [==============================] - 5s 1ms/sample - loss: 75.8693\n",
      "Epoch 31/50\n",
      "3860/3860 [==============================] - 4s 1ms/sample - loss: 76.1916\n",
      "Epoch 32/50\n",
      "3860/3860 [==============================] - 5s 1ms/sample - loss: 76.1003\n",
      "Epoch 33/50\n",
      "3860/3860 [==============================] - 5s 1ms/sample - loss: 75.7137\n",
      "Epoch 34/50\n",
      "3860/3860 [==============================] - 5s 1ms/sample - loss: 75.8636\n",
      "Epoch 35/50\n",
      "3860/3860 [==============================] - 5s 1ms/sample - loss: 75.9689\n",
      "Epoch 36/50\n",
      "3860/3860 [==============================] - 5s 1ms/sample - loss: 75.9316\n",
      "Epoch 37/50\n",
      "3860/3860 [==============================] - 5s 1ms/sample - loss: 75.4991\n",
      "Epoch 38/50\n",
      "3860/3860 [==============================] - 5s 1ms/sample - loss: 76.0055\n",
      "Epoch 39/50\n",
      "3860/3860 [==============================] - 4s 1ms/sample - loss: 75.7915\n",
      "Epoch 40/50\n",
      "3860/3860 [==============================] - 4s 1ms/sample - loss: 75.7117\n",
      "Epoch 41/50\n",
      "3860/3860 [==============================] - 4s 1ms/sample - loss: 75.9329\n",
      "Epoch 42/50\n",
      "3860/3860 [==============================] - 4s 1ms/sample - loss: 75.6426\n",
      "Epoch 43/50\n",
      "3860/3860 [==============================] - 4s 1ms/sample - loss: 75.9856\n",
      "Epoch 44/50\n",
      "3860/3860 [==============================] - 4s 1ms/sample - loss: 75.8019\n",
      "Epoch 45/50\n",
      "3860/3860 [==============================] - 4s 1ms/sample - loss: 75.5028\n",
      "Epoch 46/50\n",
      "3860/3860 [==============================] - 4s 1ms/sample - loss: 75.4809\n",
      "Epoch 47/50\n",
      "3860/3860 [==============================] - 4s 1ms/sample - loss: 75.6392\n",
      "Epoch 48/50\n",
      "3860/3860 [==============================] - 4s 1ms/sample - loss: 75.8796\n",
      "Epoch 49/50\n",
      "3860/3860 [==============================] - 4s 1ms/sample - loss: 75.6346\n",
      "Epoch 50/50\n",
      "3860/3860 [==============================] - 6s 1ms/sample - loss: 75.3645\n"
     ]
    },
    {
     "data": {
      "text/plain": [
       "<tensorflow.python.keras.callbacks.History at 0x2ba6e2bc508>"
      ]
     },
     "execution_count": 18,
     "metadata": {},
     "output_type": "execute_result"
    }
   ],
   "source": [
    "model.fit(x_train, y_train, epochs=50, batch_size=32, validation_split=0.0)"
   ]
  },
  {
   "cell_type": "markdown",
   "metadata": {},
   "source": [
    "## Evaluating RNN-LSTM Model"
   ]
  },
  {
   "cell_type": "code",
   "execution_count": 19,
   "metadata": {},
   "outputs": [],
   "source": [
    "y_pred = model.predict(x_test)"
   ]
  },
  {
   "cell_type": "code",
   "execution_count": 20,
   "metadata": {},
   "outputs": [
    {
     "name": "stdout",
     "output_type": "stream",
     "text": [
      "93.201\n"
     ]
    }
   ],
   "source": [
    "from sklearn.metrics import mean_absolute_error\n",
    "mae = round(mean_absolute_error(y_test, y_pred), 3)\n",
    "print(mae)"
   ]
  },
  {
   "cell_type": "markdown",
   "metadata": {},
   "source": [
    "## Visualization "
   ]
  },
  {
   "cell_type": "code",
   "execution_count": 21,
   "metadata": {},
   "outputs": [
    {
     "data": {
      "image/png": "[encoded data removed]",
      "text/plain": [
       "<Figure size 1008x648 with 1 Axes>"
      ]
     },
     "metadata": {
      "needs_background": "light"
     },
     "output_type": "display_data"
    }
   ],
   "source": [
    "plt.figure(figsize=(14,9))\n",
    "plt.plot(y_test, color = 'black', label = 'Real Variance of Stock Price Returns')\n",
    "plt.plot(y_pred, color = 'blue', label = 'RNN-LSTM Predicted Variance')\n",
    "plt.title(f'Variance of Stock Price Returns Prediction for {stock}')\n",
    "plt.xlabel('Date')\n",
    "plt.ylabel('Variance')\n",
    "plt.legend()\n",
    "plt.show()"
   ]
  }
 ],
 "metadata": {
  "kernelspec": {
   "display_name": "gpu",
   "language": "python",
   "name": "gpu"
  },
  "language_info": {
   "codemirror_mode": {
    "name": "ipython",
    "version": 3
   },
   "file_extension": ".py",
   "mimetype": "text/x-python",
   "name": "python",
   "nbconvert_exporter": "python",
   "pygments_lexer": "ipython3",
   "version": "3.7.5"
  }
 },
 "nbformat": 4,
 "nbformat_minor": 2
}
