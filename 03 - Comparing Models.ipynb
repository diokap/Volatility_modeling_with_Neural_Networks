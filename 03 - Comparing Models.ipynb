{
 "cells": [
  {
   "cell_type": "code",
   "execution_count": 1,
   "metadata": {},
   "outputs": [],
   "source": [
    "stock = 'Google'"
   ]
  },
  {
   "cell_type": "code",
   "execution_count": 2,
   "metadata": {},
   "outputs": [
    {
     "data": {
      "text/html": [
       "<div>\n",
       "<style scoped>\n",
       "    .dataframe tbody tr th:only-of-type {\n",
       "        vertical-align: middle;\n",
       "    }\n",
       "\n",
       "    .dataframe tbody tr th {\n",
       "        vertical-align: top;\n",
       "    }\n",
       "\n",
       "    .dataframe thead th {\n",
       "        text-align: right;\n",
       "    }\n",
       "</style>\n",
       "<table border=\"1\" class=\"dataframe\">\n",
       "  <thead>\n",
       "    <tr style=\"text-align: right;\">\n",
       "      <th></th>\n",
       "      <th>Date</th>\n",
       "      <th>Open</th>\n",
       "      <th>High</th>\n",
       "      <th>Low</th>\n",
       "      <th>Close</th>\n",
       "      <th>Adj Close</th>\n",
       "      <th>Volume</th>\n",
       "    </tr>\n",
       "  </thead>\n",
       "  <tbody>\n",
       "    <tr>\n",
       "      <th>3871</th>\n",
       "      <td>2020-01-06</td>\n",
       "      <td>1350.000000</td>\n",
       "      <td>1396.500000</td>\n",
       "      <td>1350.000000</td>\n",
       "      <td>1394.209961</td>\n",
       "      <td>1394.209961</td>\n",
       "      <td>1732300</td>\n",
       "    </tr>\n",
       "    <tr>\n",
       "      <th>3872</th>\n",
       "      <td>2020-01-07</td>\n",
       "      <td>1397.939941</td>\n",
       "      <td>1402.989990</td>\n",
       "      <td>1390.380005</td>\n",
       "      <td>1393.339966</td>\n",
       "      <td>1393.339966</td>\n",
       "      <td>1502700</td>\n",
       "    </tr>\n",
       "    <tr>\n",
       "      <th>3873</th>\n",
       "      <td>2020-01-08</td>\n",
       "      <td>1392.079956</td>\n",
       "      <td>1411.579956</td>\n",
       "      <td>1390.839966</td>\n",
       "      <td>1404.319946</td>\n",
       "      <td>1404.319946</td>\n",
       "      <td>1528000</td>\n",
       "    </tr>\n",
       "    <tr>\n",
       "      <th>3874</th>\n",
       "      <td>2020-01-09</td>\n",
       "      <td>1420.569946</td>\n",
       "      <td>1427.329956</td>\n",
       "      <td>1410.270020</td>\n",
       "      <td>1419.829956</td>\n",
       "      <td>1419.829956</td>\n",
       "      <td>1500900</td>\n",
       "    </tr>\n",
       "    <tr>\n",
       "      <th>3875</th>\n",
       "      <td>2020-01-10</td>\n",
       "      <td>1427.560059</td>\n",
       "      <td>1434.928955</td>\n",
       "      <td>1418.349976</td>\n",
       "      <td>1429.729980</td>\n",
       "      <td>1429.729980</td>\n",
       "      <td>1820700</td>\n",
       "    </tr>\n",
       "  </tbody>\n",
       "</table>\n",
       "</div>"
      ],
      "text/plain": [
       "            Date         Open         High          Low        Close  \\\n",
       "3871  2020-01-06  1350.000000  1396.500000  1350.000000  1394.209961   \n",
       "3872  2020-01-07  1397.939941  1402.989990  1390.380005  1393.339966   \n",
       "3873  2020-01-08  1392.079956  1411.579956  1390.839966  1404.319946   \n",
       "3874  2020-01-09  1420.569946  1427.329956  1410.270020  1419.829956   \n",
       "3875  2020-01-10  1427.560059  1434.928955  1418.349976  1429.729980   \n",
       "\n",
       "        Adj Close   Volume  \n",
       "3871  1394.209961  1732300  \n",
       "3872  1393.339966  1502700  \n",
       "3873  1404.319946  1528000  \n",
       "3874  1419.829956  1500900  \n",
       "3875  1429.729980  1820700  "
      ]
     },
     "execution_count": 2,
     "metadata": {},
     "output_type": "execute_result"
    }
   ],
   "source": [
    "import pandas as pd\n",
    "import numpy as np\n",
    "df = pd.read_csv(f'{stock}.csv')\n",
    "df.tail()"
   ]
  },
  {
   "cell_type": "code",
   "execution_count": 3,
   "metadata": {},
   "outputs": [],
   "source": [
    "data = pd.DataFrame()\n",
    "data[f'{stock}'] = df['Adj Close'].copy()"
   ]
  },
  {
   "cell_type": "code",
   "execution_count": 4,
   "metadata": {},
   "outputs": [],
   "source": [
    "data[f'D{stock}'] = data[f'{stock}'].diff()\n",
    "data['Variance'] = (data[f'D{stock}']-data[f'D{stock}'].mean())**2"
   ]
  },
  {
   "cell_type": "code",
   "execution_count": 5,
   "metadata": {},
   "outputs": [
    {
     "data": {
      "text/html": [
       "<div>\n",
       "<style scoped>\n",
       "    .dataframe tbody tr th:only-of-type {\n",
       "        vertical-align: middle;\n",
       "    }\n",
       "\n",
       "    .dataframe tbody tr th {\n",
       "        vertical-align: top;\n",
       "    }\n",
       "\n",
       "    .dataframe thead th {\n",
       "        text-align: right;\n",
       "    }\n",
       "</style>\n",
       "<table border=\"1\" class=\"dataframe\">\n",
       "  <thead>\n",
       "    <tr style=\"text-align: right;\">\n",
       "      <th></th>\n",
       "      <th>Google</th>\n",
       "      <th>DGoogle</th>\n",
       "      <th>Variance</th>\n",
       "    </tr>\n",
       "  </thead>\n",
       "  <tbody>\n",
       "    <tr>\n",
       "      <th>3871</th>\n",
       "      <td>1394.209961</td>\n",
       "      <td>33.549927</td>\n",
       "      <td>1101.832552</td>\n",
       "    </tr>\n",
       "    <tr>\n",
       "      <th>3872</th>\n",
       "      <td>1393.339966</td>\n",
       "      <td>-0.869995</td>\n",
       "      <td>1.503220</td>\n",
       "    </tr>\n",
       "    <tr>\n",
       "      <th>3873</th>\n",
       "      <td>1404.319946</td>\n",
       "      <td>10.979980</td>\n",
       "      <td>112.867595</td>\n",
       "    </tr>\n",
       "    <tr>\n",
       "      <th>3874</th>\n",
       "      <td>1419.829956</td>\n",
       "      <td>15.510010</td>\n",
       "      <td>229.642085</td>\n",
       "    </tr>\n",
       "    <tr>\n",
       "      <th>3875</th>\n",
       "      <td>1429.729980</td>\n",
       "      <td>9.900024</td>\n",
       "      <td>91.087176</td>\n",
       "    </tr>\n",
       "  </tbody>\n",
       "</table>\n",
       "</div>"
      ],
      "text/plain": [
       "           Google    DGoogle     Variance\n",
       "3871  1394.209961  33.549927  1101.832552\n",
       "3872  1393.339966  -0.869995     1.503220\n",
       "3873  1404.319946  10.979980   112.867595\n",
       "3874  1419.829956  15.510010   229.642085\n",
       "3875  1429.729980   9.900024    91.087176"
      ]
     },
     "execution_count": 5,
     "metadata": {},
     "output_type": "execute_result"
    }
   ],
   "source": [
    "data.dropna(axis=0, inplace=True)\n",
    "data.tail()"
   ]
  },
  {
   "cell_type": "code",
   "execution_count": 6,
   "metadata": {},
   "outputs": [],
   "source": [
    "# For each stock I estimated the RNN-LSTM model with different number of timesteps.\n",
    "# For that reason I have to re-create the test data.\n",
    "if stock == 'Google':\n",
    "    timesteps = 6\n",
    "elif stock == 'Amazon':\n",
    "    timesteps = 2\n",
    "else:\n",
    "    timesteps = 20"
   ]
  },
  {
   "cell_type": "code",
   "execution_count": 7,
   "metadata": {},
   "outputs": [],
   "source": [
    "data_test = pd.DataFrame()\n",
    "data_test['Variance'] = data['Variance'][-timesteps-3:].copy()"
   ]
  },
  {
   "cell_type": "markdown",
   "metadata": {},
   "source": [
    "## Creating Test Data"
   ]
  },
  {
   "cell_type": "code",
   "execution_count": 8,
   "metadata": {},
   "outputs": [
    {
     "data": {
      "text/plain": [
       "((3, 6), (3,))"
      ]
     },
     "execution_count": 8,
     "metadata": {},
     "output_type": "execute_result"
    }
   ],
   "source": [
    "import numpy as np\n",
    "\n",
    "x_test = []\n",
    "y_test = []\n",
    "\n",
    "for i in range(timesteps, data_test.shape[0]):\n",
    "    x_test.append(data_test['Variance'].iloc[i-timesteps:i].values.tolist())\n",
    "    y_test.append((data_test['Variance'].iloc[i]))\n",
    "\n",
    "x_test, y_test = np.array(x_test), np.array(y_test)\n",
    "\n",
    "x_test.shape, y_test.shape"
   ]
  },
  {
   "cell_type": "code",
   "execution_count": 9,
   "metadata": {},
   "outputs": [
    {
     "data": {
      "text/plain": [
       "(3, 6, 1)"
      ]
     },
     "execution_count": 9,
     "metadata": {},
     "output_type": "execute_result"
    }
   ],
   "source": [
    "from sklearn.preprocessing import FunctionTransformer\n",
    "scaler = FunctionTransformer(np.log1p, validate=True)\n",
    "x_test = scaler.fit_transform(x_test)\n",
    "x_test = x_test[..., np.newaxis]\n",
    "x_test.shape"
   ]
  },
  {
   "cell_type": "markdown",
   "metadata": {},
   "source": [
    "## Loading Tensorflow Model"
   ]
  },
  {
   "cell_type": "code",
   "execution_count": 10,
   "metadata": {
    "scrolled": true
   },
   "outputs": [],
   "source": [
    "import tensorflow as tf\n",
    "from tensorflow.keras.models import load_model\n",
    "model = load_model(f'models\\{stock}')"
   ]
  },
  {
   "cell_type": "code",
   "execution_count": 11,
   "metadata": {},
   "outputs": [],
   "source": [
    "y_pred = model.predict(x_test)"
   ]
  },
  {
   "cell_type": "code",
   "execution_count": 12,
   "metadata": {},
   "outputs": [
    {
     "name": "stdout",
     "output_type": "stream",
     "text": [
      "The MAE for the RNN-LSTM model is: 7.921\n"
     ]
    }
   ],
   "source": [
    "from sklearn.metrics import mean_absolute_error\n",
    "mae = round(mean_absolute_error(y_test, y_pred), 3)\n",
    "print('The MAE for the RNN-LSTM model is: ' + str(mae))"
   ]
  },
  {
   "cell_type": "markdown",
   "metadata": {},
   "source": [
    "## Loading the results from the GARCH models"
   ]
  },
  {
   "cell_type": "code",
   "execution_count": 13,
   "metadata": {},
   "outputs": [
    {
     "data": {
      "text/html": [
       "<div>\n",
       "<style scoped>\n",
       "    .dataframe tbody tr th:only-of-type {\n",
       "        vertical-align: middle;\n",
       "    }\n",
       "\n",
       "    .dataframe tbody tr th {\n",
       "        vertical-align: top;\n",
       "    }\n",
       "\n",
       "    .dataframe thead th {\n",
       "        text-align: right;\n",
       "    }\n",
       "</style>\n",
       "<table border=\"1\" class=\"dataframe\">\n",
       "  <thead>\n",
       "    <tr style=\"text-align: right;\">\n",
       "      <th></th>\n",
       "      <th>Google</th>\n",
       "      <th>DGoogle</th>\n",
       "      <th>Variance</th>\n",
       "      <th>GARCH</th>\n",
       "      <th>EGARCH</th>\n",
       "      <th>FIGARCH</th>\n",
       "      <th>RNN-LSTM</th>\n",
       "    </tr>\n",
       "    <tr>\n",
       "      <th>Date</th>\n",
       "      <th></th>\n",
       "      <th></th>\n",
       "      <th></th>\n",
       "      <th></th>\n",
       "      <th></th>\n",
       "      <th></th>\n",
       "      <th></th>\n",
       "    </tr>\n",
       "  </thead>\n",
       "  <tbody>\n",
       "    <tr>\n",
       "      <th>2020-01-08</th>\n",
       "      <td>1404.319946</td>\n",
       "      <td>10.979980</td>\n",
       "      <td>112.867595</td>\n",
       "      <td>357.645955</td>\n",
       "      <td>177.663147</td>\n",
       "      <td>315.114559</td>\n",
       "      <td>105.314102</td>\n",
       "    </tr>\n",
       "    <tr>\n",
       "      <th>2020-01-09</th>\n",
       "      <td>1419.829956</td>\n",
       "      <td>15.510010</td>\n",
       "      <td>229.642085</td>\n",
       "      <td>491.215491</td>\n",
       "      <td>226.273557</td>\n",
       "      <td>264.276024</td>\n",
       "      <td>214.683548</td>\n",
       "    </tr>\n",
       "    <tr>\n",
       "      <th>2020-01-10</th>\n",
       "      <td>1429.729980</td>\n",
       "      <td>9.900024</td>\n",
       "      <td>91.087176</td>\n",
       "      <td>357.633741</td>\n",
       "      <td>233.373077</td>\n",
       "      <td>243.135037</td>\n",
       "      <td>92.337570</td>\n",
       "    </tr>\n",
       "  </tbody>\n",
       "</table>\n",
       "</div>"
      ],
      "text/plain": [
       "                 Google    DGoogle    Variance       GARCH      EGARCH  \\\n",
       "Date                                                                     \n",
       "2020-01-08  1404.319946  10.979980  112.867595  357.645955  177.663147   \n",
       "2020-01-09  1419.829956  15.510010  229.642085  491.215491  226.273557   \n",
       "2020-01-10  1429.729980   9.900024   91.087176  357.633741  233.373077   \n",
       "\n",
       "               FIGARCH    RNN-LSTM  \n",
       "Date                                \n",
       "2020-01-08  315.114559  105.314102  \n",
       "2020-01-09  264.276024  214.683548  \n",
       "2020-01-10  243.135037   92.337570  "
      ]
     },
     "execution_count": 13,
     "metadata": {},
     "output_type": "execute_result"
    }
   ],
   "source": [
    "df = pd.read_excel(f'{stock} Forecasts.xlsx', index_col=0)\n",
    "df['RNN-LSTM'] = y_pred\n",
    "df"
   ]
  },
  {
   "cell_type": "markdown",
   "metadata": {},
   "source": [
    "## Visualization "
   ]
  },
  {
   "cell_type": "code",
   "execution_count": 14,
   "metadata": {},
   "outputs": [],
   "source": [
    "import matplotlib.pyplot as plt\n",
    "import seaborn as sns\n",
    "sns.set()"
   ]
  },
  {
   "cell_type": "code",
   "execution_count": 15,
   "metadata": {},
   "outputs": [
    {
     "data": {
      "image/png": "[encoded data removed]",
      "text/plain": [
       "<Figure size 1008x648 with 1 Axes>"
      ]
     },
     "metadata": {
      "needs_background": "light"
     },
     "output_type": "display_data"
    }
   ],
   "source": [
    "plt.figure(figsize=(14,9))\n",
    "plt.plot(df['Variance'], color = 'black', label = 'Real Variance of Stock Price Returns')\n",
    "plt.plot(df['GARCH'], color = 'red', label = 'GARCH Predicted Variance')\n",
    "plt.plot(df['EGARCH'], color = 'brown', label = 'EGARCH Predicted Variance')\n",
    "plt.plot(df['FIGARCH'], color = 'green', label = 'FIGARCH Predicted Variance')\n",
    "plt.plot(df['RNN-LSTM'], color = 'blue', label = 'RNN-LSTM Predicted Variance')\n",
    "plt.title(f'Variance of Stock Price Returns Prediction for {stock}')\n",
    "plt.xlabel('Date')\n",
    "plt.ylabel('Variance')\n",
    "plt.legend()\n",
    "plt.show()"
   ]
  },
  {
   "cell_type": "code",
   "execution_count": 16,
   "metadata": {},
   "outputs": [],
   "source": [
    "df.to_excel(f\"{stock} Forecasts.xlsx\")"
   ]
  }
 ],
 "metadata": {
  "kernelspec": {
   "display_name": "gpu",
   "language": "python",
   "name": "gpu"
  },
  "language_info": {
   "codemirror_mode": {
    "name": "ipython",
    "version": 3
   },
   "file_extension": ".py",
   "mimetype": "text/x-python",
   "name": "python",
   "nbconvert_exporter": "python",
   "pygments_lexer": "ipython3",
   "version": "3.7.5"
  }
 },
 "nbformat": 4,
 "nbformat_minor": 2
}
